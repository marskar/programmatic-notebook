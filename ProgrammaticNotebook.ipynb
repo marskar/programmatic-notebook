{
 "metadata": {
  "name": "",
  "signature": "sha256:ed5456a1541023cdf27c5b8eb72bab829eda670dea24ecc315386aa52691c7a9"
 },
 "nbformat": 3,
 "nbformat_minor": 0,
 "worksheets": [
  {
   "cells": [
    {
     "cell_type": "heading",
     "level": 1,
     "metadata": {},
     "source": [
      "Creating an IPython Notebook programatically"
     ]
    },
    {
     "cell_type": "code",
     "collapsed": false,
     "input": [
      "from IPython.nbformat import current as nbf"
     ],
     "language": "python",
     "metadata": {},
     "outputs": [],
     "prompt_number": 3
    },
    {
     "cell_type": "code",
     "collapsed": false,
     "input": [
      "nb = nbf.new_notebook()"
     ],
     "language": "python",
     "metadata": {},
     "outputs": [],
     "prompt_number": 13
    },
    {
     "cell_type": "code",
     "collapsed": false,
     "input": [
      "nbf.new_text_cell??"
     ],
     "language": "python",
     "metadata": {},
     "outputs": [],
     "prompt_number": 9
    },
    {
     "cell_type": "markdown",
     "metadata": {},
     "source": [
      "This notebook will simply have three cells that read `print 0`, `print 1`, etc:"
     ]
    },
    {
     "cell_type": "code",
     "collapsed": false,
     "input": [
      "text = \"This is an auto-generated notebook.\"\n",
      "code = \"1+2\"\n",
      "\n",
      "cells = [nbf.new_text_cell('markdown', text),\n",
      "         nbf.new_code_cell(code) ]"
     ],
     "language": "python",
     "metadata": {},
     "outputs": [],
     "prompt_number": 14
    },
    {
     "cell_type": "markdown",
     "metadata": {},
     "source": [
      "Now that we have the cells, we can make a worksheet with them and add it to the notebook:"
     ]
    },
    {
     "cell_type": "code",
     "collapsed": false,
     "input": [
      "nb['worksheets'].append(nbf.new_worksheet(cells=cells))"
     ],
     "language": "python",
     "metadata": {},
     "outputs": [],
     "prompt_number": 15
    },
    {
     "cell_type": "markdown",
     "metadata": {},
     "source": [
      "Next, we write it to a file on disk that we can then open as a new notebook.\n",
      "\n",
      "Note: This should be as easy as: `nbf.write(nb, fname)`, but the current api is a little more verbose and needs a real file-like\n",
      "object."
     ]
    },
    {
     "cell_type": "code",
     "collapsed": false,
     "input": [
      "fname = 'test.ipynb'\n",
      "\n",
      "with open(fname, 'w') as f:\n",
      "    nbf.write(nb, f, 'ipynb')"
     ],
     "language": "python",
     "metadata": {},
     "outputs": [],
     "prompt_number": 16
    },
    {
     "cell_type": "markdown",
     "metadata": {},
     "source": [
      "This notebook can be run at the command line with:\n",
      "\n",
      "    ipython -c '%run test.ipynb'\n",
      "\n",
      "Or you can open it [as a live notebook](test.ipynb)."
     ]
    }
   ],
   "metadata": {}
  }
 ]
}