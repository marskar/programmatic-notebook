{
 "metadata": {
  "name": "",
  "signature": "sha256:091e85f0b0a9b6046ac3ff3a934f44b0ab25793466640e783e466da776eda240"
 },
 "nbformat": 3,
 "nbformat_minor": 0,
 "worksheets": [
  {
   "cells": [
    {
     "cell_type": "heading",
     "level": 1,
     "metadata": {},
     "source": [
      "Creating an IPython Notebook programatically"
     ]
    },
    {
     "cell_type": "code",
     "collapsed": false,
     "input": [
      "from IPython.nbformat import current as nbf"
     ],
     "language": "python",
     "metadata": {},
     "outputs": [],
     "prompt_number": 1
    },
    {
     "cell_type": "code",
     "collapsed": false,
     "input": [
      "nb = nbf.new_notebook()"
     ],
     "language": "python",
     "metadata": {},
     "outputs": [],
     "prompt_number": 2
    },
    {
     "cell_type": "markdown",
     "metadata": {},
     "source": [
      "This notebook will simply have three cells that read `print 1`, `print 2`, etc:"
     ]
    },
    {
     "cell_type": "code",
     "collapsed": false,
     "input": [
      "cells = [ nbf.new_code_cell(\"print %i\" % i ) for i in range(3) ]"
     ],
     "language": "python",
     "metadata": {},
     "outputs": [],
     "prompt_number": 3
    },
    {
     "cell_type": "markdown",
     "metadata": {},
     "source": [
      "Now that we have the cells, we can make a worksheet with them and add it to the notebook:"
     ]
    },
    {
     "cell_type": "code",
     "collapsed": false,
     "input": [
      "nb['worksheets'].append(nbf.new_worksheet(cells=cells))"
     ],
     "language": "python",
     "metadata": {},
     "outputs": [],
     "prompt_number": 4
    },
    {
     "cell_type": "markdown",
     "metadata": {},
     "source": [
      "Next, we write it to a file on disk that we can then open as a new notebook.\n",
      "\n",
      "Note: This should be as easy as: `nbf.write(nb, fname)`, but the current api is a little more verbose and needs a real file-like\n",
      "object."
     ]
    },
    {
     "cell_type": "code",
     "collapsed": false,
     "input": [
      "fname = 'test.ipynb'\n",
      "\n",
      "with open(fname, 'w') as f:\n",
      "    nbf.write(nb, f, 'ipynb')"
     ],
     "language": "python",
     "metadata": {},
     "outputs": [],
     "prompt_number": 5
    },
    {
     "cell_type": "markdown",
     "metadata": {},
     "source": [
      "For convenience, link and execution instructions:"
     ]
    },
    {
     "cell_type": "code",
     "collapsed": false,
     "input": [
      "from IPython.display import FileLink\n",
      "\n",
      "print \"This notebook can be run at the command line with:\"\n",
      "print\n",
      "print  \"ipython -c '%%run %s'\" % fname\n",
      "print \n",
      "print \"Or you can open it as a notebook here:\"\n",
      "FileLink(fname)"
     ],
     "language": "python",
     "metadata": {},
     "outputs": [
      {
       "output_type": "stream",
       "stream": "stdout",
       "text": [
        "This notebook can be run at the command line with:\n",
        "\n",
        "ipython -c '%run test.ipynb'\n",
        "\n",
        "Or you can open it as a notebook here:\n"
       ]
      },
      {
       "html": [
        "<a href='test.ipynb' target='_blank'>test.ipynb</a><br>"
       ],
       "metadata": {},
       "output_type": "pyout",
       "prompt_number": 6,
       "text": [
        "/home/fperez/test.ipynb"
       ]
      }
     ],
     "prompt_number": 6
    }
   ],
   "metadata": {}
  }
 ]
}